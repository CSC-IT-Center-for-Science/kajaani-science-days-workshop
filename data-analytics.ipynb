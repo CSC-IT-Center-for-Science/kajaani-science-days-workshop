{
 "cells": [
  {
   "cell_type": "markdown",
   "metadata": {},
   "source": [
    "# Data-analyysityöpaja Kajaanin Tiedepäivillä\n",
    "\n",
    "Mitä data-analyysi on? Data-analyysi tarkoitaa sitä, että datan pohjalta päätellään jotain uutta. Esimerkiksi mittausdatan perusteella voidaan todeta, että uusi lääkeaine näyttää laskevan verenpainetta.\n",
    "\n",
    "No mitä se data on? Nykypäivänä data voi olla mitä tahansa, mikä on saatavissa digitaalisessa muodossa. Perinteisesti data on ollut tieteellisiä havaintoja, joita on tunnollisesti kirjattu ylös, vaikkapa jonkinlaiseksi taulukoksi. Näin on edellisen verenpaine-esimerkin tapauksessa. Nykyään kuitenkin tehdään jo paljon analyysiä esimerkiksi reaaliaikaisesta videokuvasta. Hyvä esimerkki tästä on vaikkapa robottilennokki, joka lentää pitkin voimalinjoja ja videokameran kuvan avulla analysoi, että milloin lumikuorma on vaarallisen suuri.\n",
    "\n",
    "Mihin data-analyysia tarvitaan? Jos visionäärejä on uskominen, niin kohta ihan kaikkeen. Tieteessä datan analysointi on ollut keskeistä viimeistään 1900-luvun alusta alkaen. Tämä perinteinen tieteellinen ja asiantuntijatyön analytiikka on kuitenkin nyt jäämässä pienempään rooliin, kun arkisemmat data-analyysitarpeet ovat suoraan sanoen räjähtäneet. Facebookin ja Googlen kaltaiset internetajan yritykset vetävät uuden data-analytiikan nopeaa kehitystä. Yritysmaailmassa niin kutsuttu Big Data on tällä hetkellä todella kuuma alue.\n",
    "\n",
    "Joka tapauksessa on selvää, että tulevaisuudessa data-analyysiä tehdään paljon enemmän ja paljon laajemmin. Eli ei pelkästään tutkimuslaitoksissa, vaan tavallisissa yrityksissä, virastoissa ja järjestöissä. Jos opettelee ainakin perusasiat, niin saa melkoisen hyödyn tulevaisuutta ajatellen."
   ]
  },
  {
   "cell_type": "markdown",
   "metadata": {},
   "source": [
    "## Asiaan\n",
    "\n",
    "Jotta voi analysoida dataa, niin aluksi pitää ladata dataa. Alla oleva koodinpätkä tekee juuri sen.\n",
    "\n",
    "Koodi ajetaan klikkaamalla harmaaseen laatikkoon, jolloin se tulee valituksi. Valitse ylävalikosta Cell -> Run ja koodi käynnistyy. Sen merkkinä ilmestyy In-riville tähti. Kun homma on valmis, niin alle ilmestyy tulokset. Tässä tapauksessa pitäisi tulla ladattu data näkyviin taulukkona.\n",
    "\n",
    "Jatkossa koodin voi ajaa myös näppärämmin painamalla Ctrl ja Enter.\n"
   ]
  },
  {
   "cell_type": "code",
   "execution_count": null,
   "metadata": {
    "collapsed": false
   },
   "outputs": [],
   "source": [
    "# Luetaan loitsut, jotka alustavat ympäristön\n",
    "from pandas import DataFrame, Series, read_csv\n",
    "from numpy import vstack, round, random\n",
    "from bokeh.plotting import figure, show, output_notebook, hplot\n",
    "from bokeh.charts import Bar, Scatter\n",
    "from bokeh._legacy_charts import HeatMap\n",
    "from bokeh.palettes import YlOrRd9\n",
    "output_notebook()\n",
    "\n",
    "# Ladataan datatiedosto\n",
    "data = read_csv('https://raw.githubusercontent.com/CSC-IT-Center-for-Science/kajaani-science-days-workshop/master/data.csv', sep=';', decimal=',')\n",
    "\n",
    "# Katsotaan miltä data näyttää\n",
    "data"
   ]
  },
  {
   "cell_type": "markdown",
   "metadata": {},
   "source": [
    "## Miltä data näyttää?\n",
    "\n",
    "Data-analyysi alkaa yleensä sillä, että piirretään data kuvaajaksi eli visualisoidaan se. Tai jos rehellisiä ollaan, niin aluksi yleensä tapellaan sen kanssa, että data saadaan siivottua, oikeaan muotoon ja ladattua koneelle. Mutta sen jälkeen siis visualisoidaan.\n",
    "\n",
    "Meidän datataulukkomme sisältää vähän kaikenlaista tietoa. Sen perusajatus on, että kaikki tiedot on kytketty kuukauteen. Eli meillä on joidenkin vuosien ajalta jokaiselle kuukaudelle erilaisia mittauksia ja muita tietoja.\n",
    "\n",
    "Piirretään taulukosta löytyvät jäätelömyynnin määrät kuukausittain. Dataa on pitkältä ajalta ja visualisointi on siksi vaikea lukea sellaisenaan, mutta sitä pystyy liikuttelemaan ja sillä tavalla paremmin ymmärrettäväksi."
   ]
  },
  {
   "cell_type": "code",
   "execution_count": null,
   "metadata": {
    "collapsed": false
   },
   "outputs": [],
   "source": [
    "show(Bar(data, label='Kuukausi', values='Jaatelomyynti'))\n"
   ]
  },
  {
   "cell_type": "markdown",
   "metadata": {},
   "source": [
    "Surffaile hetken ajan ylläolevaa visualisointia. Mikä on jäätelömyynnin perusidea?"
   ]
  },
  {
   "cell_type": "markdown",
   "metadata": {},
   "source": [
    "## Satunnaisuus\n",
    "\n",
    "Katsotaan ensimmäistä vuotta tarkemmin. Mitä muuta huomaat kuin kuin kesän vaikutuksen?"
   ]
  },
  {
   "cell_type": "code",
   "execution_count": null,
   "metadata": {
    "collapsed": false,
    "scrolled": true
   },
   "outputs": [],
   "source": [
    "data2005 = data[0:12]\n",
    "show(Bar(data2005, label='Kuukausi', values='Jaatelomyynti'))"
   ]
  },
  {
   "cell_type": "markdown",
   "metadata": {},
   "source": [
    "Joulukuun myynti on myös kohollaan. Syödäänkö jouluna paljon jäätelöä? Ehkäpä.\n",
    "\n",
    "Yksittäiseen havaintoon ei kuitenkaan pidä luottaa. Valitettavasti suuresta kaaviosta on mahdoton nähdä, että mitä joulukuussa myynti on keskimäärin verrattuna muihin kuukausiin. Voimme kuitenkin kätevästi poimia datasta halutut tiedot ja piirtää uudet visualisoinnit. "
   ]
  },
  {
   "cell_type": "code",
   "execution_count": null,
   "metadata": {
    "collapsed": false
   },
   "outputs": [],
   "source": [
    "talvikuukaudet = [i % 12 in (11, 0, 1) for i in range(120)]\n",
    "datajoulu = data.copy()\n",
    "datajoulu['Joulu'] = Series(i[-2:] != '12' for i in data['Kuukausi'])\n",
    "\n",
    "show(Bar(datajoulu[talvikuukaudet], label='Kuukausi', values='Jaatelomyynti', title='Talven myynti', group='Joulu'))"
   ]
  },
  {
   "cell_type": "markdown",
   "metadata": {},
   "source": [
    "## Datan yhdistelyä\n",
    "\n"
   ]
  },
  {
   "cell_type": "markdown",
   "metadata": {},
   "source": [
    "Data-analyytikkoa usein kiinnostaa, että millaisia yhteyksiä kahden eri asian välillä on.\n",
    "\n",
    "Piirretään datasta kaksi eri tietoa: jäätelömyynti ja allergialääkkeiden myynti. Voiko näistä kaavioista nähdä mitään?"
   ]
  },
  {
   "cell_type": "code",
   "execution_count": null,
   "metadata": {
    "collapsed": false
   },
   "outputs": [],
   "source": [
    "show(Bar(data, label='Kuukausi', values='Jaatelomyynti'))\n",
    "show(Bar(data, label='Kuukausi', values='Allergialaakemyynti'))\n"
   ]
  },
  {
   "cell_type": "markdown",
   "metadata": {},
   "source": [
    "Suoraan piirrettynä tiedoista näkee, että molemmissa on selvä vuositasolla toistuva kuvio. Mutta osuvatko ne yhteen, ja jos osuvat, niin kuinka paljon?\n",
    "\n",
    "Sitä varten vaihdetaan toisenlaiseen kuvaajaan, nimittäin hajontakaavioon. Siinä nämä kaksi tietoa eli muuttujaa piirretään x- ja y-akseleille. Jokaista pistettä vastaa yksi kuukausi."
   ]
  },
  {
   "cell_type": "code",
   "execution_count": null,
   "metadata": {
    "collapsed": false
   },
   "outputs": [],
   "source": [
    "show(Scatter(data, x='Jaatelomyynti', y='Allergialaakemyynti'))"
   ]
  },
  {
   "cell_type": "markdown",
   "metadata": {},
   "source": [
    "Nähdään, että nämä kaksi asiaa tavallaan kulkevat käsi kädessä. Kun jäätelömyyntin on suuri, niin myös allergialääkkeiden myynti on suuri. Niinpä hajontakaavio näyttää vasemmasta alakulmasta oikeaan yläkulmaan lentävälle parvelle.\n",
    "\n",
    "Voidaanko tästä siis päätellä, että toinen aiheuttaa toisen? Eli jos syödään paljon jäätelöä, niin se aiheuttaa heinänuhaa? Tai että jos podetaan heinänuhaa, niin sitä hoidetaan lurpsimalla jäätelöä? Sitähän se data näyttäisi sanovan.\n",
    "\n",
    "Näiden kahden muuttujan välinen suhde ei kuitenkaan ole näin yksinkertainen, vaan mukana on tavallaan kolmas pyörä. Piirretäänpä sama hajontakaavio uudelleen niin, että kesäkuukauden saavat vihreän värin."
   ]
  },
  {
   "cell_type": "code",
   "execution_count": null,
   "metadata": {
    "collapsed": false
   },
   "outputs": [],
   "source": [
    "datakesa = data.copy()\n",
    "datakesa['Kesa'] = Series(i[-2:] in ('06', '07', '08') for i in data['Kuukausi'])\n",
    "show(Scatter(datakesa, x='Jaatelomyynti', y='Allergialaakemyynti', color='Kesa'))"
   ]
  },
  {
   "cell_type": "markdown",
   "metadata": {},
   "source": [
    "Mysteeri ratkesi! Taitaakin olla niin, että kesäkelit aiheuttavat sekä jäätelömyynnin kohoamista, että heinänuhaa."
   ]
  },
  {
   "cell_type": "markdown",
   "metadata": {},
   "source": [
    "## Uusien yhteyksien löytämistä"
   ]
  },
  {
   "cell_type": "markdown",
   "metadata": {},
   "source": [
    "Tähän asti emme ole koskeneet koodiin. Mutta seuraavaksi pääset itse tutkailemaan eri sarakkeiden välisiä yhteyksiä. Katsotaan aluksi, että minkä nimiset sarakkeet datasta löytyvät."
   ]
  },
  {
   "cell_type": "code",
   "execution_count": null,
   "metadata": {
    "collapsed": false
   },
   "outputs": [],
   "source": [
    "data.columns.values.tolist()[1:10]"
   ]
  },
  {
   "cell_type": "markdown",
   "metadata": {},
   "source": [
    "Alla on esimerkiksi katsottu jäätelömyynnin ja kuukauden keskilämpötilan yhteyttä. Voit muuttaa sarakkeiden nimiä ja ajaa koodin uudelleen, jolloin näet valitsemiesi sarakkeiden yhteyden."
   ]
  },
  {
   "cell_type": "code",
   "execution_count": null,
   "metadata": {
    "collapsed": false
   },
   "outputs": [],
   "source": [
    "# Muuta hipsujen sisällä olevia arvoja alla\n",
    "# Älä poista hipsuja tai lisää välilyöntejä niiden sisälle\n",
    "sarake1 = 'Jaatelomyynti'\n",
    "sarake2 = 'Lampotila'\n",
    "\n",
    "# Ja piirretään\n",
    "show(Scatter(data, x=sarake1, y=sarake2))"
   ]
  },
  {
   "cell_type": "markdown",
   "metadata": {},
   "source": [
    "Voit esimerkiksi kokeilla Suomi24-foorumin sanojen yleisyyttä ja verrata niitä toisiinsa, tai muihin sarakkeisiin."
   ]
  },
  {
   "cell_type": "markdown",
   "metadata": {},
   "source": [
    "## Vähän lisää automaatiota"
   ]
  },
  {
   "cell_type": "markdown",
   "metadata": {},
   "source": [
    "Sarakkeiden välisten yhteyksien etsimistä voi automatisoida. "
   ]
  },
  {
   "cell_type": "code",
   "execution_count": null,
   "metadata": {
    "collapsed": false
   },
   "outputs": [],
   "source": [
    "show(HeatMap(data.corr(), title=\"Sarakkeiden yhteys (korrelaatio)\", palette=YlOrRd9[::-1]))"
   ]
  },
  {
   "cell_type": "markdown",
   "metadata": {},
   "source": [
    "## Lopuksi\n",
    "\n",
    "Jos yhden asian tästä työpajasta muistat, niin toivottavasti se on tämä: jäätelön syönti ei aiheuta heinänuhaa, rokkifestareita tai telkkarin kesäuusintoja. Ne kyllä tapahtuvat samaan aikaan, mutta se ei tarkoita, että toinen aiheuttaa toisen.\n",
    "\n",
    "Jos muistat toisenkin asian, niin se voisi olla tämä: oikeassa datassa on aina satunnaista vaihtelua, joten muutamien havaintojen perusteella ei voi päätellä juuri mitään. Pitää katsoa isompaa määrää dataa.\n",
    "\n",
    "Data-analyysiä ymmärretään nykyään melkoisen huonosti, vaikka siihen luotetaankin kovasti. Tartu siis tilaisuuteen ja opettele vähän tätä lajia. Tulet todennäköisesti hyötymään hyvin paljon."
   ]
  },
  {
   "cell_type": "markdown",
   "metadata": {},
   "source": [
    "*(Datalähteet: Ilmatieteen laitos, Keskisuomalainen 10.07.2014: Suomalainen syö vuodessa näin paljon jäätelöä, Jantunen: Allergian ja astman kustannukset Suomessa vuonna 2011, Suomi24 / Aller Media. Dataa on ekstrapoloitu ja interpoloitu tarpeen mukaan ja reippaalla kädellä, käyttäen Stetson-Harrison -menetelmää.)*"
   ]
  }
 ],
 "metadata": {
  "kernelspec": {
   "display_name": "Python 3",
   "language": "python",
   "name": "python3"
  },
  "language_info": {
   "codemirror_mode": {
    "name": "ipython",
    "version": 3
   },
   "file_extension": ".py",
   "mimetype": "text/x-python",
   "name": "python",
   "nbconvert_exporter": "python",
   "pygments_lexer": "ipython3",
   "version": "3.4.0"
  }
 },
 "nbformat": 4,
 "nbformat_minor": 0
}
